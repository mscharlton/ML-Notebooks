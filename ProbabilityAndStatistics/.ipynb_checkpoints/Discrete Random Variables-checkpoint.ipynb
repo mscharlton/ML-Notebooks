{
 "cells": [
  {
   "cell_type": "code",
   "execution_count": 1,
   "id": "8769364b",
   "metadata": {},
   "outputs": [],
   "source": [
    "import numpy as np\n",
    "import pandas as pd\n",
    "import matplotlib.pyplot as plt\n",
    "import seaborn as sns; sns.set()"
   ]
  },
  {
   "cell_type": "markdown",
   "id": "303fa0f8",
   "metadata": {},
   "source": [
    "# Discrete Random Variables\n",
    "\n",
    "**PMF** = Probability Mass Formula for discrete random variables\n",
    "\n",
    "## Bernoulli Random Variables  \n",
    "**For a give coin flip**  \n",
    "x = 0    P(x = 0) = 0.5  \n",
    "x = 1    P(x = 1) = 0.5\n",
    "\n",
    "thus...\n",
    "\n",
    "P(x) = { 0.5 when x = 1,  \n",
    "            0.5 when x = 0\n",
    "            \n",
    "Bernoulli variables are a random variable with 2 events or outcomes, 0 or 1"
   ]
  },
  {
   "cell_type": "code",
   "execution_count": 11,
   "id": "9e6c4078",
   "metadata": {},
   "outputs": [
    {
     "name": "stdout",
     "output_type": "stream",
     "text": [
      "Success Rate: 0.6669\n"
     ]
    }
   ],
   "source": [
    "# Example Bernoulli Trial\n",
    "def bernoulli_trial(p = 0.5):\n",
    "    return int(np.random.rand() <= p)\n",
    "\n",
    "zero_count = 0\n",
    "one_count = 0\n",
    "p = 0.666\n",
    "n = 10000\n",
    "\n",
    "for i in range(n):\n",
    "    x = bernoulli_trial(p)\n",
    "    if x == 1:\n",
    "        one_count += 1\n",
    "    else:\n",
    "        zero_count += 1\n",
    "\n",
    "success_rate = one_count / n\n",
    "print(f'Success Rate: {success_rate}')"
   ]
  },
  {
   "cell_type": "code",
   "execution_count": 21,
   "id": "b28e984c",
   "metadata": {},
   "outputs": [
    {
     "data": {
      "image/png": "[encoded data removed]",
      "text/plain": [
       "<Figure size 432x288 with 1 Axes>"
      ]
     },
     "metadata": {},
     "output_type": "display_data"
    }
   ],
   "source": [
    "p = 0.1111\n",
    "n = 10000\n",
    "\n",
    "B = [bernoulli_trial(p) for i in range(n)]\n",
    "\n",
    "v = plt.hist(B, density=True, bins=50)\n",
    "plt.show(v)"
   ]
  },
  {
   "cell_type": "markdown",
   "id": "92fb3ca7",
   "metadata": {},
   "source": [
    "## Geometric Random Variables  \n",
    "Occurs during an expirement that continues till a desired outcome is reached, where the number of trials is the random variable itself.  This assumes each trial is independent on the previous toss\n",
    "\n",
    "**Example:**  \n",
    "In an expirement, you continue to keep tossing coins till the first heads is flipped.  Here, the random variable is the number of flips to reach the first heads.  \n",
    "\n",
    "P(x = 1) = 0.7 **<= x = 1 represents hitting heads on the first flip**  \n",
    "P(x = 2) = 0.3 * 0.7 **<= x = 2 represents hitting tails on first flip, heads on 2nd flip**  \n",
    "P(x = 7) = $0.3^6$ * 0.7 **<= x = 7 represents hitting 6 tails, then a heads on the final flip**  \n",
    "\n",
    "When normalized, becomes:\n",
    "\n",
    "**1 = P(x=1) + P(x=2) + .... + P(x=$\\infty$)**  \n",
    "\n",
    "If P is the probability of success a Q is the probability of failure, then Q = 1 - P \n",
    "\n",
    "thus in the coin toss example above:\n",
    "\n",
    "P(x = 2) = q * p  \n",
    "P(x = 3) = $q^2$ * p  \n",
    "P(x = 10) = $q^9$ * p  \n",
    "\n",
    "we must show that:\n",
    "\n",
    "$\\sum_{i=1}^{\\infty} P(x=i)$  =  1  \n",
    "\n",
    "in our example:\n",
    "\n",
    "1 = p * $\\sum_{i=1}^{\\infty} q^{i-1}$\n",
    "\n",
    "thus:  \n",
    "\n",
    "p * $\\sum_{i=1}^{\\infty} q^{i-1}$ = p * (1 /( 1 - q))"
   ]
  },
  {
   "cell_type": "code",
   "execution_count": 9,
   "id": "46fb5da2",
   "metadata": {},
   "outputs": [
    {
     "name": "stdout",
     "output_type": "stream",
     "text": [
      "8\n"
     ]
    }
   ],
   "source": [
    "# Example of Geometric Random Variables\n",
    "def geometric_trial(p = 0.5):\n",
    "    x = 0\n",
    "    while True:\n",
    "        if bernoulli_trial(p) == 1:\n",
    "            return x\n",
    "        else: \n",
    "            x += 1\n",
    "\n",
    "p = 0.2\n",
    "result = geometric_trial(p)\n",
    "print(result)"
   ]
  },
  {
   "cell_type": "code",
   "execution_count": 20,
   "id": "bc904141",
   "metadata": {},
   "outputs": [
    {
     "data": {
      "image/png": "[encoded data removed]",
      "text/plain": [
       "<Figure size 432x288 with 1 Axes>"
      ]
     },
     "metadata": {},
     "output_type": "display_data"
    }
   ],
   "source": [
    "n = 1000\n",
    "p = 0.2 \n",
    "G = np.zeros(n) \n",
    "\n",
    "G = [geometric_trial(p) for i in range(n)]\n",
    "\n",
    "v = plt.hist(G, density=True, bins = 50)\n",
    "sns.kdeplot(G, shade=True)\n",
    "plt.show(v)\n"
   ]
  },
  {
   "cell_type": "code",
   "execution_count": null,
   "id": "85da4997",
   "metadata": {},
   "outputs": [],
   "source": []
  },
  {
   "cell_type": "code",
   "execution_count": null,
   "id": "e190e9ee",
   "metadata": {},
   "outputs": [],
   "source": []
  },
  {
   "cell_type": "markdown",
   "id": "f3d6ede2",
   "metadata": {},
   "source": [
    "## Binomial Random Variables  \n"
   ]
  },
  {
   "cell_type": "code",
   "execution_count": 18,
   "id": "9741fbdb",
   "metadata": {},
   "outputs": [
    {
     "data": {
      "text/plain": [
       "<AxesSubplot:ylabel='Density'>"
      ]
     },
     "execution_count": 18,
     "metadata": {},
     "output_type": "execute_result"
    },
    {
     "data": {
      "image/png": "[encoded data removed]",
      "text/plain": [
       "<Figure size 432x288 with 1 Axes>"
      ]
     },
     "metadata": {},
     "output_type": "display_data"
    }
   ],
   "source": [
    "def binomial_trial(n, p):\n",
    "    return (np.random.rand(n)>=p).sum()\n",
    "\n",
    "N = 10000\n",
    "n = 100\n",
    "p = 0.612\n",
    "B = np.zeros(N)\n",
    "\n",
    "B = [binomial_trial(n,p) for i in range(N)]\n",
    "\n",
    "plt.hist(B, density=True, bins = 100)\n",
    "sns.kdeplot(B, shade=True)"
   ]
  },
  {
   "cell_type": "code",
   "execution_count": null,
   "id": "9e78b4f9",
   "metadata": {},
   "outputs": [],
   "source": []
  }
 ],
 "metadata": {
  "kernelspec": {
   "display_name": "Python 3",
   "language": "python",
   "name": "python3"
  },
  "language_info": {
   "codemirror_mode": {
    "name": "ipython",
    "version": 3
   },
   "file_extension": ".py",
   "mimetype": "text/x-python",
   "name": "python",
   "nbconvert_exporter": "python",
   "pygments_lexer": "ipython3",
   "version": "3.8.8"
  }
 },
 "nbformat": 4,
 "nbformat_minor": 5
}
