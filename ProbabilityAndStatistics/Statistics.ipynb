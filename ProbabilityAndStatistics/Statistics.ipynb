{
 "cells": [
  {
   "cell_type": "code",
   "execution_count": 1,
   "id": "8a2bfd05",
   "metadata": {},
   "outputs": [],
   "source": [
    "import numpy as np\n",
    "import pandas as pd\n",
    "import matplotlib.pyplot as plt\n",
    "import seaborn as sns; sns.set()"
   ]
  },
  {
   "cell_type": "markdown",
   "id": "770b6269",
   "metadata": {},
   "source": [
    "## Expectation / Mean  \n",
    "\n",
    "E = Expectation or Mean of Sample Set ($\\Omega$)\n",
    "\n",
    "### Discrete Random Variables\n",
    "Given X to be a discrete random variable:  \n",
    "\n",
    "x, with PMF of $P_x$(x)  is E[X] = $\\sum_{i=1}^{x} x * P_x(x)$\n",
    "\n",
    "#### Example  \n",
    "\n",
    "x is a Bernoulli Random Variable with PMF of:  \n",
    "\n",
    "$P_x$(x) = { 0.7 when x =1 and 0.3 when x = 0, then \n",
    "\n",
    "$E[X] = 1*0.7 + 0*0.3 = 0.7$\n"
   ]
  },
  {
   "cell_type": "code",
   "execution_count": 2,
   "id": "273f8dd9",
   "metadata": {},
   "outputs": [
    {
     "data": {
      "text/plain": [
       "<AxesSubplot:title={'center':'Mean: 1.37413'}, ylabel='Density'>"
      ]
     },
     "execution_count": 2,
     "metadata": {},
     "output_type": "execute_result"
    },
    {
     "data": {
      "image/png": "[encoded data removed]",
      "text/plain": [
       "<Figure size 432x288 with 1 Axes>"
      ]
     },
     "metadata": {},
     "output_type": "display_data"
    }
   ],
   "source": [
    "# Mean becomes the expected value, which as N increases, becomes the mean\n",
    "# Note: for binomial random values, the mean will approach P(x)\n",
    "p = 0.73\n",
    "N = 100000\n",
    "G = np.random.geometric(p, N)\n",
    "g_mean = G.mean()\n",
    "\n",
    "ax = plt.axes()\n",
    "ax.set_title(f'Mean: {g_mean}')\n",
    "v = plt.hist(G, density=True, bins = 50)\n",
    "sns.kdeplot(G, shade=True)\n"
   ]
  },
  {
   "cell_type": "markdown",
   "id": "cc097f8e",
   "metadata": {},
   "source": [
    "### Continuous Random Variables \n",
    "\n",
    "Given Y to be a continuous random variable:\n",
    "\n",
    "Y, with PDF of $F_y$(y) is E[Y] = $\\int_1^\\infty y * F_y(y)*dy$"
   ]
  },
  {
   "cell_type": "markdown",
   "id": "823d1827",
   "metadata": {},
   "source": [
    "## Law of Large Numbers\n",
    "$x$, $P_x(x)$ as probability distribution function (either discrete or continuous)  \n",
    "\n",
    "The result of all independent expirements defines the sample space ($\\Omega$).  This is also sometimes called I.I.D, identical independent data\n",
    "\n",
    "Given some distribution with an IID sample, than the expected value of the random number becomes the mean of the $\\Omega$ sample set as the size of $\\Omega$ increases.\n",
    "\n",
    "$E[x] = mean(\\Omega)$  \n",
    "\n",
    "### Some Famous Distributions showing the Law of Large Numbers  \n",
    "\n",
    "| Random Variable | $E[x] / Mean$ | X range | Parameter Range |\n",
    "| ---------- | ------------ | ---------- | --------- |  \n",
    "| Bernoulli(p) | $p$ | {0,1} | 0 <= p <= 1 |  \n",
    "| Binomial(n,p) | $n*p$ | 0 <= x <= n | 0 <= p <= 1, n >= 1 |  \n",
    "| Geometric(p) | $1 / p$ | x >= 1 | 0 <= p <= 1 | \n",
    "| Poisson($\\lambda$) | $\\lambda$ | x >= 0, 1, 2, ..., $\\infty$ | $\\lambda$ >= 0 |  \n",
    "| Normal($\\mu$, $\\sigma$), aka - Gaussian | $\\mu$ | -$\\infty$ <= x <= $\\infty$ | -$\\infty$ <= $\\mu$ <= $\\infty$, $\\sigma$ > 0 |  \n",
    "| Exponential($\\lambda$) | $1 / \\lambda$ | x >= 0 | $\\lambda$ > 0 |  "
   ]
  },
  {
   "cell_type": "markdown",
   "id": "8c710bf0",
   "metadata": {},
   "source": [
    "## Variance  \n",
    "Variance ($\\sigma$) represents the difference between the expected mean or value ($\\mu$) and the real random variable value.\n",
    "\n",
    "$\\sigma^2 = E[(x - \\mu)^2]$  \n",
    "\n",
    "often written as \n",
    "\n",
    "$\\sigma = \\sqrt{E[(x - \\mu)^2]}$"
   ]
  },
  {
   "cell_type": "markdown",
   "id": "bbf1ef2c",
   "metadata": {},
   "source": [
    "## Regression  - Multiple Random Variables  \n",
    "\n",
    "Given random variables $x_1, x_2, x_3, ...., x_d$ and continuous random variable, $y$  \n",
    "we look to model the probability of $f_{y|x}(y|\\overrightarrow{x})$ with the following:  \n",
    "\n",
    "$f_{y|x}(y|\\overrightarrow{x})$ = $\\frac{f_{\\overrightarrow{x}|y}(\\overrightarrow{x}|y) * P_y(y)}{f_{\\overrightarrow{x}}(x)}$  \n",
    "\n",
    "following:  \n",
    "\n",
    "$E_{y|x}[y|x] = \\int_{0}^y y*f_{y|\\overrightarrow{x}}(y|\\overrightarrow{x})$\n",
    "\n",
    "where $E_{y|x}[y|x]$ is the point estimate based upon the values of $\\overrightarrow{x}$  "
   ]
  },
  {
   "cell_type": "markdown",
   "id": "fe1cccd6",
   "metadata": {},
   "source": [
    "## Parametric Distribution  \n",
    "\n",
    "Any distribution function (PMA or PDF) that takes parameters, such as:  \n",
    "\n",
    "normal($\\mu$, $\\sigma$)  \n",
    "exp($\\lambda$)  \n",
    "geometric(p)  \n",
    "binomial(n,p)  \n",
    "\n",
    "The goal of estimation is to determine these parameters as those will give us the full probability model of the data.  \n",
    "\n",
    "Note:  there are non-parametric distributions, which can be solved via kernal density estimates, think sns.kdeplot function for plotting."
   ]
  },
  {
   "cell_type": "markdown",
   "id": "0e65f871",
   "metadata": {},
   "source": [
    "## Parametric Distribution Estimation  \n",
    "\n",
    "### Maximum Likelihood Estimate (MLE)  \n",
    "Assumptions: \n",
    "1. Independent Data\n",
    "2. Identical Distribution \n",
    "\n",
    "Given:  \n",
    "Samples ($\\overrightarrow{S}$): $[s_1, s_2, s_3, ...., s_n]$  \n",
    "\n",
    "where the distribution of $s_1$ = $f_{\\overrightarrow{X}}(\\overrightarrow{x})$ \n",
    "\n",
    "then we know:  \n",
    "\n",
    "$f(s_1, s_2, s_3, ...., s_n|a,b,c) = f_x(s_1) * f_x(s_2) * f_x(s_3) * ... * f_x(s_n)$  \n",
    "\n",
    "what are the values of the parametric distribution that maximizes the probability functions?  \n",
    "\n",
    "#### Log Likelihood for Exponential Distributions  \n",
    "Assuming independent and identically distributed amples ($S$) of data $x_1,x_2,x_3,....,x_n$  \n",
    "\n",
    "Reminder: for exponential distribution:  \n",
    "\n",
    "$f_x(x) = \\lambda*e^{-\\lambda*x}$  \n",
    "\n",
    "Goal is then to determine the maximum $\\lambda$ value of the distribution.  \n",
    "\n",
    "The MLE equation, $L$, is then the following:  \n",
    "\n",
    "1.  $L(\\lambda) = \\lambda*e^{-\\lambda*x_1} * \\lambda*e^{-\\lambda*x_2} * ..... * \\lambda*e^{-\\lambda*x_n}$  \n",
    "2.  $L(\\lambda) = \\lambda^n * e^{-\\lambda(x_1 + x_2 + x_3 + .... + x_n)}$  \n",
    "\n",
    "rewriting such that $s$ = $x_1 + x_2 + x_3 + ... + x_n$ yeilds the following:\n",
    "\n",
    "3.  $L(\\lambda) = \\lambda^n * e^{-\\lambda*s}$\n",
    "4.  $log_e(L(\\lambda)) = log_e(\\lambda^n * e^{-\\lambda*s})$  \n",
    "5.  $log_e(L(\\lambda)) = (n*log_e(\\lambda)) - (\\lambda*s)$  \n",
    "6.  Taking the derivitive of $(n*log_e(\\lambda)) - (\\lambda*s)$, yeilds $\\frac{n}{\\lambda} - s = 0$\n",
    "\n",
    "Now to maximize $\\lambda$, we get the following:  \n",
    "\n",
    "$\\lambda = \\frac{n}{s}$  \n",
    "\n",
    "### Maximum A Posterior (MAP) Estimator  \n",
    "\n",
    "This estimator assumes the parameters of the density functions, like $\\lambda, \\mu$, or $\\sigma$ are random variables themselves.\n",
    "\n",
    "For example, with the exponential distribution function  \n",
    "\n",
    "$f_x(x) = \\lambda * e^{-\\lambda*x}$ \n",
    "\n",
    "we consider $\\lambda$ itself as a random variable with its own distribution function, which is maximized as:  \n",
    "\n",
    "$f_{\\lambda}(\\lambda|x) = \\Pi(i=1,n)( f_x(x_i) * f_{\\lambda}(\\lambda)$  \n",
    "\n",
    "where $\\Pi$ represents the maximum value of $\\lambda$ across each element $i$ of $n$ samples or data points"
   ]
  },
  {
   "cell_type": "code",
   "execution_count": null,
   "id": "f8245b32",
   "metadata": {},
   "outputs": [],
   "source": []
  }
 ],
 "metadata": {
  "kernelspec": {
   "display_name": "Python 3",
   "language": "python",
   "name": "python3"
  },
  "language_info": {
   "codemirror_mode": {
    "name": "ipython",
    "version": 3
   },
   "file_extension": ".py",
   "mimetype": "text/x-python",
   "name": "python",
   "nbconvert_exporter": "python",
   "pygments_lexer": "ipython3",
   "version": "3.8.8"
  }
 },
 "nbformat": 4,
 "nbformat_minor": 5
}
