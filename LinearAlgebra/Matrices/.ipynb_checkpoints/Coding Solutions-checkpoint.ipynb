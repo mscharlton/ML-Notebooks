{
 "cells": [
  {
   "cell_type": "code",
   "execution_count": 2,
   "metadata": {},
   "outputs": [],
   "source": [
    "import numpy as np"
   ]
  },
  {
   "cell_type": "code",
   "execution_count": 6,
   "metadata": {},
   "outputs": [],
   "source": [
    "A = np.array([[2,4,3],[0,1,3]])\n",
    "B = np.array([[-2,-1,3], [6,-7,7]])\n",
    "C = np.array([[0,-6],[-3,-2],[-2,7]])"
   ]
  },
  {
   "cell_type": "code",
   "execution_count": 8,
   "metadata": {},
   "outputs": [
    {
     "name": "stdout",
     "output_type": "stream",
     "text": [
      "[[ -4   1  12]\n",
      " [ 18 -20  24]]\n"
     ]
    }
   ],
   "source": [
    "#1a\n",
    "final = A + 3*B\n",
    "print(final)"
   ]
  },
  {
   "cell_type": "code",
   "execution_count": 18,
   "metadata": {},
   "outputs": [
    {
     "name": "stdout",
     "output_type": "stream",
     "text": [
      "5\n",
      "10\n",
      "10\n"
     ]
    }
   ],
   "source": [
    "#3\n",
    "A = np.array([[2,4],[0,3]])\n",
    "B = np.array([[-2,-1], [6,7]])\n",
    "\n",
    "#3a\n",
    "final = np.trace(A)\n",
    "print(final)\n",
    "\n",
    "#3d\n",
    "inner = np.transpose(A+B)\n",
    "final = np.trace(inner)\n",
    "final = np.trace((A+B).T)\n",
    "print(final)\n",
    "\n",
    "#3f\n",
    "final = np.trace(B + A.T)\n",
    "print(final)\n"
   ]
  },
  {
   "cell_type": "code",
   "execution_count": 23,
   "metadata": {},
   "outputs": [
    {
     "name": "stdout",
     "output_type": "stream",
     "text": [
      "2\n",
      "-15*a - 15*d\n",
      "-11\n",
      "-15\n",
      "5\n"
     ]
    }
   ],
   "source": [
    "from sympy import * \n",
    "\n",
    "a,b,c,d,e,f,g,h,k,l,m,n,o,p,q,r,s,t,u = symbols('a b c d e f g h k l m n o p q r s t u', real=True)\n",
    "\n",
    "A = np.array([[5, -3], [2,-3]])\n",
    "B = np.array([[-4,-1], [1,3]])\n",
    "C = np.array([[a,c],[b,d]])\n",
    "\n",
    "lam = 5\n",
    "alpha = -3\n",
    "\n",
    "#4a\n",
    "print(np.trace(A))\n",
    "\n",
    "#4g\n",
    "print(alpha * np.trace(lam * C))\n",
    "\n",
    "#4h\n",
    "print(np.trace(alpha*A + lam*B))\n",
    "\n",
    "#4i\n",
    "print( (lam*alpha) * np.trace(A+B))\n",
    "\n",
    "#4j\n",
    "print( np.trace( lam*A + lam*B))"
   ]
  }
 ],
 "metadata": {
  "kernelspec": {
   "display_name": "Python 3",
   "language": "python",
   "name": "python3"
  },
  "language_info": {
   "codemirror_mode": {
    "name": "ipython",
    "version": 3
   },
   "file_extension": ".py",
   "mimetype": "text/x-python",
   "name": "python",
   "nbconvert_exporter": "python",
   "pygments_lexer": "ipython3",
   "version": "3.7.3"
  }
 },
 "nbformat": 4,
 "nbformat_minor": 2
}
