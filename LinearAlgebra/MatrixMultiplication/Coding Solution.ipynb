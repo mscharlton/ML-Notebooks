{
 "cells": [
  {
   "cell_type": "code",
   "execution_count": 2,
   "metadata": {},
   "outputs": [],
   "source": [
    "import numpy as np\n",
    "from sympy import *\n",
    "\n",
    "a,b,c,d,e,f,g,h,k,l,m,n,o,p,q,r,s,t,u = symbols('a b c d e f g h k l m n o p q r s t u', real=True)"
   ]
  },
  {
   "cell_type": "code",
   "execution_count": 7,
   "metadata": {},
   "outputs": [
    {
     "name": "stdout",
     "output_type": "stream",
     "text": [
      "[[ -2   1  19]\n",
      " [ -1  -8   8]\n",
      " [ -9 -36   6]]\n",
      "[[ -2   1  19]\n",
      " [ -1  -8   8]\n",
      " [ -9 -36   6]]\n"
     ]
    }
   ],
   "source": [
    "#2h\n",
    "A = np.array([[1,0,4],[0,1,1],[3,3,0]])\n",
    "B = np.array([[-2,-3,-1], [-1,-9,3], [0,1,5]])\n",
    "result = np.matmul(A,B)\n",
    "print(result)\n",
    "\n",
    "result = A @ B\n",
    "print(result)"
   ]
  },
  {
   "cell_type": "code",
   "execution_count": 10,
   "metadata": {},
   "outputs": [
    {
     "name": "stdout",
     "output_type": "stream",
     "text": [
      "[4 9]\n"
     ]
    }
   ],
   "source": [
    "#3a\n",
    "A = np.array([[2,0],[0,3]])\n",
    "b = np.array([2,3])\n",
    "\n",
    "result = A @ b\n",
    "print(result)"
   ]
  },
  {
   "cell_type": "code",
   "execution_count": 14,
   "metadata": {},
   "outputs": [
    {
     "name": "stdout",
     "output_type": "stream",
     "text": [
      "[ 6 -8  6]\n"
     ]
    }
   ],
   "source": [
    "#3g\n",
    "a = np.array([1,2,5])\n",
    "B = np.array([[1,0,1],[0,-4,0],[1,0,1]])\n",
    "\n",
    "result = a.T @ B\n",
    "print(result)"
   ]
  },
  {
   "cell_type": "code",
   "execution_count": 35,
   "metadata": {},
   "outputs": [
    {
     "name": "stdout",
     "output_type": "stream",
     "text": [
      "Frobenius by dot product\n",
      "[a b c d]\n",
      "\n",
      "[1 2 3 4]\n",
      "a + 2*b + 3*c + 4*d\n",
      "Frobenius by trace\n",
      "a + 2*b + 3*c + 4*d\n"
     ]
    }
   ],
   "source": [
    "a,b,c,d,e,f,g,h,k,l,m,n,o,p,q,r,s,t,u = symbols('a b c d e f g h k l m n o p q r s t u', real=True)\n",
    "#4a\n",
    "A = np.array([[a,b],[c,d]])\n",
    "B = np.array([[1,2],[3,4]])\n",
    "\n",
    "print('Frobenius by dot product')\n",
    "Av = A.flatten()\n",
    "Bv = B.flatten()\n",
    "\n",
    "print(Av),print(),print(Bv)\n",
    "\n",
    "vdot = np.dot(Av, Bv)\n",
    "print(vdot)\n",
    "\n",
    "print('Frobenius by trace')\n",
    "ft = np.trace(A.T@B)\n",
    "print(ft)\n"
   ]
  },
  {
   "cell_type": "code",
   "execution_count": 36,
   "metadata": {},
   "outputs": [
    {
     "name": "stdout",
     "output_type": "stream",
     "text": [
      "Frobenius by dot product\n"
     ]
    },
    {
     "ename": "ValueError",
     "evalue": "shapes (9,) and (6,) not aligned: 9 (dim 0) != 6 (dim 0)",
     "output_type": "error",
     "traceback": [
      "\u001b[0;31m---------------------------------------------------------------------------\u001b[0m",
      "\u001b[0;31mValueError\u001b[0m                                Traceback (most recent call last)",
      "\u001b[0;32m<ipython-input-36-14015422b65d>\u001b[0m in \u001b[0;36m<module>\u001b[0;34m()\u001b[0m\n\u001b[1;32m      7\u001b[0m \u001b[0mBv\u001b[0m \u001b[0;34m=\u001b[0m \u001b[0mB\u001b[0m\u001b[0;34m.\u001b[0m\u001b[0mflatten\u001b[0m\u001b[0;34m(\u001b[0m\u001b[0;34m)\u001b[0m\u001b[0;34m\u001b[0m\u001b[0;34m\u001b[0m\u001b[0m\n\u001b[1;32m      8\u001b[0m \u001b[0;34m\u001b[0m\u001b[0m\n\u001b[0;32m----> 9\u001b[0;31m \u001b[0mvdot\u001b[0m \u001b[0;34m=\u001b[0m \u001b[0mnp\u001b[0m\u001b[0;34m.\u001b[0m\u001b[0mdot\u001b[0m\u001b[0;34m(\u001b[0m\u001b[0mAv\u001b[0m\u001b[0;34m,\u001b[0m \u001b[0mBv\u001b[0m\u001b[0;34m)\u001b[0m\u001b[0;34m\u001b[0m\u001b[0;34m\u001b[0m\u001b[0m\n\u001b[0m\u001b[1;32m     10\u001b[0m \u001b[0mprint\u001b[0m\u001b[0;34m(\u001b[0m\u001b[0mvdot\u001b[0m\u001b[0;34m)\u001b[0m\u001b[0;34m\u001b[0m\u001b[0;34m\u001b[0m\u001b[0m\n\u001b[1;32m     11\u001b[0m \u001b[0;34m\u001b[0m\u001b[0m\n",
      "\u001b[0;32m<__array_function__ internals>\u001b[0m in \u001b[0;36mdot\u001b[0;34m(*args, **kwargs)\u001b[0m\n",
      "\u001b[0;31mValueError\u001b[0m: shapes (9,) and (6,) not aligned: 9 (dim 0) != 6 (dim 0)"
     ]
    }
   ],
   "source": [
    "#4f\n",
    "A = np.array([[1,1,7], [2,2,6], [3,3,5]])\n",
    "B = np.array([[1,0],[0,1],[1,1]])\n",
    "\n",
    "print('Frobenius by dot product')\n",
    "Av = A.flatten()\n",
    "Bv = B.flatten()\n",
    "\n",
    "vdot = np.dot(Av, Bv)\n",
    "print(vdot)\n",
    "\n",
    "print('Frobenius by trace')\n",
    "vdot = np.trace(A.T @ B)\n",
    "print(vdot)"
   ]
  }
 ],
 "metadata": {
  "kernelspec": {
   "display_name": "Python 3",
   "language": "python",
   "name": "python3"
  },
  "language_info": {
   "codemirror_mode": {
    "name": "ipython",
    "version": 3
   },
   "file_extension": ".py",
   "mimetype": "text/x-python",
   "name": "python",
   "nbconvert_exporter": "python",
   "pygments_lexer": "ipython3",
   "version": "3.7.3"
  }
 },
 "nbformat": 4,
 "nbformat_minor": 2
}
